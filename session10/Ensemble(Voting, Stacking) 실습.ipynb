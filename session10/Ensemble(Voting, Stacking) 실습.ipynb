{
 "cells": [
  {
   "cell_type": "markdown",
   "metadata": {},
   "source": [
    "# Packages"
   ]
  },
  {
   "cell_type": "code",
   "execution_count": 1,
   "metadata": {
    "ExecuteTime": {
     "end_time": "2020-03-25T03:22:24.930115Z",
     "start_time": "2020-03-25T03:22:21.577359Z"
    }
   },
   "outputs": [],
   "source": [
    "import pandas as pd\n",
    "import numpy as np\n",
    "\n",
    "from sklearn.model_selection import train_test_split, cross_val_score\n",
    "\n",
    "from sklearn.tree import DecisionTreeClassifier\n",
    "from sklearn.ensemble import RandomForestClassifier, BaggingClassifier\n",
    "from sklearn.ensemble import RandomForestRegressor\n",
    "import xgboost as xgb\n",
    "import lightgbm as lgb\n",
    "\n",
    "from tqdm import tqdm_notebook\n",
    "from sklearn.metrics import accuracy_score\n",
    "from sklearn.linear_model import LinearRegression, LogisticRegression"
   ]
  },
  {
   "cell_type": "markdown",
   "metadata": {},
   "source": [
    "# Data"
   ]
  },
  {
   "cell_type": "code",
   "execution_count": 2,
   "metadata": {
    "ExecuteTime": {
     "end_time": "2020-03-25T03:22:25.014106Z",
     "start_time": "2020-03-25T03:22:24.932597Z"
    }
   },
   "outputs": [],
   "source": [
    "train = pd.read_csv(\"train.csv\")"
   ]
  },
  {
   "cell_type": "markdown",
   "metadata": {},
   "source": [
    "# Modeling"
   ]
  },
  {
   "cell_type": "code",
   "execution_count": 3,
   "metadata": {
    "ExecuteTime": {
     "end_time": "2020-03-25T03:22:25.083038Z",
     "start_time": "2020-03-25T03:22:25.017086Z"
    }
   },
   "outputs": [],
   "source": [
    "# training set과 test set 지정\n",
    "\n",
    "Train = train.iloc[:,:-1] \n",
    "Test = train.iloc[:,-1]\n",
    "x_train,x_test,y_train,y_test = train_test_split(Train,Test, test_size=0.2,random_state=42)\n",
    "\n",
    "x_train = x_train.reset_index(drop=True)\n",
    "x_test = x_test.reset_index(drop=True)\n",
    "\n",
    "y_train = y_train.reset_index(drop=True)\n",
    "y_test = y_test.reset_index(drop=True)\n",
    "\n",
    "X = x_train\n",
    "y = y_train "
   ]
  },
  {
   "cell_type": "markdown",
   "metadata": {},
   "source": [
    "## Hyperparameter tuning"
   ]
  },
  {
   "cell_type": "code",
   "execution_count": 4,
   "metadata": {
    "ExecuteTime": {
     "end_time": "2020-03-25T03:22:25.091451Z",
     "start_time": "2020-03-25T03:22:25.085490Z"
    }
   },
   "outputs": [],
   "source": [
    "from scipy.stats import randint\n",
    "from sklearn.model_selection import GridSearchCV, RandomizedSearchCV\n",
    "\n",
    "def hypertuning_rscv(est, p_distr, nbr_iter,X,y):\n",
    "    rdmsearch = RandomizedSearchCV(est, param_distributions=p_distr, n_jobs=-1, n_iter=nbr_iter, cv=5, random_state=0)\n",
    "    #CV = Cross-Validation ( here using Stratified KFold CV)\n",
    "    rdmsearch.fit(X,y)\n",
    "    ht_params = rdmsearch.best_params_\n",
    "    ht_score = rdmsearch.best_score_\n",
    "    return ht_params, ht_score\n",
    "\n",
    "def hypertuning_gscv(est, p_distr,X,y):\n",
    "    gdsearch = GridSearchCV(est, param_grid=p_distr, n_jobs=-1, cv=5)\n",
    "    gdsearch.fit(X,y)\n",
    "    bt_param = gdsearch.best_params_\n",
    "    bt_score = gdsearch.best_score_    \n",
    "    return bt_param, bt_score"
   ]
  },
  {
   "cell_type": "code",
   "execution_count": 5,
   "metadata": {
    "ExecuteTime": {
     "end_time": "2020-03-25T03:22:25.109795Z",
     "start_time": "2020-03-25T03:22:25.094420Z"
    }
   },
   "outputs": [],
   "source": [
    "dt_params = {\"criterion\": [\"gini\", \"entropy\"],\n",
    "              \"min_samples_split\": randint(2, 20),\n",
    "              \"max_depth\": randint(1, 20),\n",
    "              \"min_samples_leaf\": randint(1, 20),\n",
    "              \"max_leaf_nodes\": randint(2, 20)}\n",
    "\n",
    "rf_params = {'max_depth':np.arange(3, 30), \n",
    "            'n_estimators':np.arange(100, 400),\n",
    "            'min_samples_split':np.arange(2, 10)}\n",
    "\n",
    "lgbm_params ={'max_depth': np.arange(3, 30),\n",
    "             'num_leaves': np.arange(10, 100), \n",
    "             'learning_rate': [ 0.01, 0.05, 0.01, 0.001],\n",
    "             'min_child_samples': randint(2, 30),\n",
    "             'min_child_weight': [1e-5, 1e-3, 1e-2, 1e-1, 1, 1e1, 1e2, 1e3, 1e4],\n",
    "             'subsample': np.linspace(0.6, 0.9, 30, endpoint=True), \n",
    "             'colsample_bytree': np.linspace(0.1, 0.8, 100, endpoint=True),\n",
    "             'reg_alpha': [0, 1e-1, 1, 2, 5, 7, 10, 50, 100],\n",
    "             'reg_lambda': [0, 1e-1, 1, 5, 10, 20, 50, 100],\n",
    "             'n_estimators': np.arange(100, 400)}\n",
    "\n",
    "\n",
    "params_list = [dt_params, rf_params, lgbm_params]"
   ]
  },
  {
   "cell_type": "code",
   "execution_count": 6,
   "metadata": {
    "ExecuteTime": {
     "end_time": "2020-03-25T03:26:43.680189Z",
     "start_time": "2020-03-25T03:22:25.112770Z"
    },
    "scrolled": true
   },
   "outputs": [
    {
     "name": "stdout",
     "output_type": "stream",
     "text": [
      "5-fold cross validation scores & best parameters :\n",
      "\n",
      "---- DecisionTree with RandomSearch ----\n",
      "best_params :  {'criterion': 'gini', 'max_depth': 18, 'max_leaf_nodes': 17, 'min_samples_leaf': 5, 'min_samples_split': 11}\n",
      "cv score :  0.6474042275511703\n",
      "accuracy: 0.6425\n",
      "---- RandomForest with RandomSearch ----\n",
      "best_params :  {'n_estimators': 391, 'min_samples_split': 2, 'max_depth': 22}\n",
      "cv score :  0.8477186119528936\n",
      "accuracy: 0.8674\n",
      "---- LGBM with RandomSearch ----\n",
      "best_params :  {'colsample_bytree': 0.4747474747474748, 'learning_rate': 0.05, 'max_depth': 9, 'min_child_samples': 10, 'min_child_weight': 1, 'n_estimators': 373, 'num_leaves': 89, 'reg_alpha': 5, 'reg_lambda': 0.1, 'subsample': 0.7034482758620689}\n",
      "cv score :  0.8298611884564006\n",
      "accuracy: 0.8439\n"
     ]
    }
   ],
   "source": [
    "names = ['DecisionTree', 'RandomForest', 'LGBM']\n",
    "clf_list = [DecisionTreeClassifier(random_state=10), RandomForestClassifier(random_state=10), lgb.LGBMClassifier(random_state=10)]\n",
    "\n",
    "best_param_dict = dict()\n",
    "print('5-fold cross validation scores & best parameters :\\n')\n",
    "for name, clf, param_list in zip(names, clf_list, params_list):\n",
    "    print('---- {} with RandomSearch ----'.format(name))\n",
    "    \n",
    "    best_params = hypertuning_rscv(clf, param_list, 30, X.iloc[:,1:], y)\n",
    "    best_param_dict[name] = best_params[0]\n",
    "    print('best_params : ', best_params[0])\n",
    "    \n",
    "    clf.set_params(**best_params[0])\n",
    "    cv_score = cross_val_score(clf, X.iloc[:,1:], y, cv=5).mean()\n",
    "    print('cv score : ', cv_score)\n",
    "    clf.fit(X.iloc[:,1:], y)\n",
    "    clf_pred = clf.predict(x_test.iloc[:,1:])\n",
    "    print(\"accuracy: {0:.4f}\".format(accuracy_score(clf_pred, y_test)))"
   ]
  },
  {
   "cell_type": "markdown",
   "metadata": {},
   "source": [
    "# Voting 알고리즘의 이해"
   ]
  },
  {
   "attachments": {
    "image.png": {
     "image/png": "[encoded data removed]"
    }
   },
   "cell_type": "markdown",
   "metadata": {},
   "source": [
    "![image.png](attachment:image.png)"
   ]
  },
  {
   "cell_type": "markdown",
   "metadata": {},
   "source": [
    "- Hard Voting의 경우에는 Prediction이 label값으로 나온다.\n",
    "\n",
    "- Soft Voting의 경우에는 Prediction이 probability값으로 나온다."
   ]
  },
  {
   "cell_type": "code",
   "execution_count": 7,
   "metadata": {
    "ExecuteTime": {
     "end_time": "2020-03-25T03:26:43.689801Z",
     "start_time": "2020-03-25T03:26:43.684438Z"
    }
   },
   "outputs": [],
   "source": [
    "x_test2 = x_test.copy()"
   ]
  },
  {
   "cell_type": "code",
   "execution_count": 8,
   "metadata": {
    "ExecuteTime": {
     "end_time": "2020-03-25T03:26:56.133448Z",
     "start_time": "2020-03-25T03:26:43.694266Z"
    }
   },
   "outputs": [],
   "source": [
    "# 1. DecisionTree의 predicted proba\n",
    "dt_bst = DecisionTreeClassifier(**best_param_dict['DecisionTree'], random_state=10)\n",
    "dt_bst.fit(X.iloc[:,1:],y)\n",
    "dt_proba = dt_bst.predict_proba(x_test.iloc[:,1:])\n",
    "dt_result = dt_bst.predict(x_test.iloc[:,1:])\n",
    "\n",
    "# 2. RF의 predicted_proba\n",
    "rf_bst = RandomForestClassifier(**best_param_dict['RandomForest'], random_state=10)\n",
    "rf_bst.fit(X.iloc[:,1:],y)\n",
    "rf_proba = rf_bst.predict_proba(x_test.iloc[:,1:])\n",
    "rf_result = rf_bst.predict(x_test.iloc[:,1:])\n",
    "\n",
    "# 3. LGB의 predicted_proba\n",
    "lgb_bst = lgb.LGBMClassifier(**best_param_dict['LGBM'], random_state=10)\n",
    "lgb_bst.fit(X.iloc[:,1:],y)\n",
    "lgb_proba = lgb_bst.predict_proba(x_test.iloc[:,1:])\n",
    "lgb_result = lgb_bst.predict(x_test.iloc[:,1:])"
   ]
  },
  {
   "cell_type": "markdown",
   "metadata": {},
   "source": [
    "## Hard Voting"
   ]
  },
  {
   "cell_type": "code",
   "execution_count": 9,
   "metadata": {
    "ExecuteTime": {
     "end_time": "2020-03-25T03:26:56.151801Z",
     "start_time": "2020-03-25T03:26:56.138905Z"
    }
   },
   "outputs": [
    {
     "name": "stderr",
     "output_type": "stream",
     "text": [
      "C:\\Users\\asus\\Anaconda3\\lib\\site-packages\\ipykernel_launcher.py:4: FutureWarning: from_items is deprecated. Please use DataFrame.from_dict(dict(items), ...) instead. DataFrame.from_dict(OrderedDict(items)) may be used to preserve the key order.\n",
      "  after removing the cwd from sys.path.\n"
     ]
    }
   ],
   "source": [
    "names = ['dt_result','rf_result','lgb_result']\n",
    "res_data = [dt_result, rf_result, lgb_result]\n",
    "prob_data = [dt_proba, rf_proba, lgb_proba]\n",
    "hard_voting_data = pd.DataFrame.from_items(zip(names, res_data))"
   ]
  },
  {
   "cell_type": "code",
   "execution_count": 10,
   "metadata": {
    "ExecuteTime": {
     "end_time": "2020-03-25T03:26:56.289556Z",
     "start_time": "2020-03-25T03:26:56.157755Z"
    }
   },
   "outputs": [],
   "source": [
    "x_test2['hard_res'] = hard_voting_data.apply(lambda x: np.argmax(np.bincount(x)), axis=1)"
   ]
  },
  {
   "cell_type": "markdown",
   "metadata": {},
   "source": [
    "## Soft Voting"
   ]
  },
  {
   "cell_type": "code",
   "execution_count": 11,
   "metadata": {
    "ExecuteTime": {
     "end_time": "2020-03-25T03:26:56.320320Z",
     "start_time": "2020-03-25T03:26:56.291721Z"
    }
   },
   "outputs": [],
   "source": [
    "dt_proba_data = pd.DataFrame.from_records(prob_data[0])\n",
    "rf_proba_data = pd.DataFrame.from_records(prob_data[1])\n",
    "lgb_proba_data = pd.DataFrame.from_records(prob_data[2])"
   ]
  },
  {
   "cell_type": "code",
   "execution_count": 12,
   "metadata": {
    "ExecuteTime": {
     "end_time": "2020-03-25T03:26:56.571404Z",
     "start_time": "2020-03-25T03:26:56.321843Z"
    }
   },
   "outputs": [
    {
     "name": "stderr",
     "output_type": "stream",
     "text": [
      "C:\\Users\\asus\\Anaconda3\\lib\\site-packages\\numpy\\core\\fromnumeric.py:56: FutureWarning: \n",
      "The current behaviour of 'Series.argmax' is deprecated, use 'idxmax'\n",
      "instead.\n",
      "The behavior of 'argmax' will be corrected to return the positional\n",
      "maximum in the future. For now, use 'series.values.argmax' or\n",
      "'np.argmax(np.array(values))' to get the position of the maximum\n",
      "row.\n",
      "  return getattr(obj, method)(*args, **kwds)\n"
     ]
    }
   ],
   "source": [
    "avg_res = (rf_proba_data + dt_proba_data + lgb_proba_data) / 3 \n",
    "x_test2['soft_res'] = avg_res.apply(lambda x: np.argmax(x)+1, axis=1)"
   ]
  },
  {
   "cell_type": "markdown",
   "metadata": {},
   "source": [
    "# VotingClassifier의 사용(실전용)"
   ]
  },
  {
   "cell_type": "markdown",
   "metadata": {},
   "source": [
    "## Hard Voting"
   ]
  },
  {
   "cell_type": "code",
   "execution_count": 13,
   "metadata": {
    "ExecuteTime": {
     "end_time": "2020-03-25T03:26:56.576393Z",
     "start_time": "2020-03-25T03:26:56.573389Z"
    }
   },
   "outputs": [],
   "source": [
    "from sklearn.ensemble import VotingClassifier"
   ]
  },
  {
   "cell_type": "code",
   "execution_count": 14,
   "metadata": {
    "ExecuteTime": {
     "end_time": "2020-03-25T03:27:08.491990Z",
     "start_time": "2020-03-25T03:26:56.578349Z"
    }
   },
   "outputs": [],
   "source": [
    "hard_vot = VotingClassifier(estimators=[\n",
    "    ('dt', dt_bst),('rf',rf_bst), ('lgb',lgb_bst)\n",
    "], voting='hard')\n",
    "\n",
    "hard_vot.fit(X.iloc[:,1:],y)\n",
    "x_test2['hard_votclf_res'] = hard_vot.predict(x_test.iloc[:,1:])"
   ]
  },
  {
   "cell_type": "code",
   "execution_count": 15,
   "metadata": {
    "ExecuteTime": {
     "end_time": "2020-03-25T03:27:08.516295Z",
     "start_time": "2020-03-25T03:27:08.495463Z"
    }
   },
   "outputs": [
    {
     "data": {
      "text/plain": [
       "True"
      ]
     },
     "execution_count": 15,
     "metadata": {},
     "output_type": "execute_result"
    }
   ],
   "source": [
    "np.array_equal(x_test2.hard_res, x_test2.hard_votclf_res)"
   ]
  },
  {
   "cell_type": "code",
   "execution_count": 16,
   "metadata": {
    "ExecuteTime": {
     "end_time": "2020-03-25T03:27:08.976600Z",
     "start_time": "2020-03-25T03:27:08.520759Z"
    }
   },
   "outputs": [
    {
     "name": "stdout",
     "output_type": "stream",
     "text": [
      "accuracy: 0.8482\n"
     ]
    }
   ],
   "source": [
    "hard_vot_pred = hard_vot.predict(x_test.iloc[:,1:])\n",
    "print(\"accuracy: {0:.4f}\".format(accuracy_score(hard_vot_pred, y_test)))"
   ]
  },
  {
   "cell_type": "markdown",
   "metadata": {},
   "source": [
    "## Soft Voting"
   ]
  },
  {
   "cell_type": "code",
   "execution_count": 17,
   "metadata": {
    "ExecuteTime": {
     "end_time": "2020-03-25T03:27:21.041287Z",
     "start_time": "2020-03-25T03:27:08.980054Z"
    }
   },
   "outputs": [],
   "source": [
    "soft_vot = VotingClassifier(estimators=[\n",
    "     ('dt', dt_bst),('rf',rf_bst), ('lgb',lgb_bst)\n",
    "], voting='soft')\n",
    "\n",
    "soft_vot.fit(X.iloc[:,1:],y)\n",
    "x_test2['soft_votclf_res'] = soft_vot.predict(x_test.iloc[:,1:])"
   ]
  },
  {
   "cell_type": "code",
   "execution_count": 18,
   "metadata": {
    "ExecuteTime": {
     "end_time": "2020-03-25T03:27:21.053687Z",
     "start_time": "2020-03-25T03:27:21.045254Z"
    }
   },
   "outputs": [
    {
     "data": {
      "text/plain": [
       "True"
      ]
     },
     "execution_count": 18,
     "metadata": {},
     "output_type": "execute_result"
    }
   ],
   "source": [
    "np.array_equal(x_test2.soft_res, x_test2.soft_votclf_res)"
   ]
  },
  {
   "cell_type": "code",
   "execution_count": 19,
   "metadata": {
    "ExecuteTime": {
     "end_time": "2020-03-25T03:27:21.525940Z",
     "start_time": "2020-03-25T03:27:21.056662Z"
    }
   },
   "outputs": [
    {
     "name": "stdout",
     "output_type": "stream",
     "text": [
      "accuracy: 0.8363\n"
     ]
    }
   ],
   "source": [
    "soft_vot_pred = soft_vot.predict(x_test.iloc[:,1:])\n",
    "print(\"accuracy: {0:.4f}\".format(accuracy_score(soft_vot_pred, y_test)))"
   ]
  },
  {
   "cell_type": "markdown",
   "metadata": {},
   "source": [
    "# Stacking 알고리즘의 이해"
   ]
  },
  {
   "attachments": {
    "image.png": {
     "image/png": "[encoded data removed]"
    }
   },
   "cell_type": "markdown",
   "metadata": {},
   "source": [
    "![image.png](attachment:image.png)"
   ]
  },
  {
   "cell_type": "code",
   "execution_count": 20,
   "metadata": {
    "ExecuteTime": {
     "end_time": "2020-03-25T03:27:21.545223Z",
     "start_time": "2020-03-25T03:27:21.529848Z"
    }
   },
   "outputs": [],
   "source": [
    "from sklearn.model_selection import KFold\n",
    "\n",
    "def get_stacked_data(model, X_train, y_train, X_test, n_folds):\n",
    "    kfold = KFold(n_splits=n_folds)\n",
    "    \n",
    "    # 결과값을 저장할 곳을 미리 만들어둔다.\n",
    "    train_fold_predict = np.zeros((X_train.shape[0], 7))\n",
    "    \n",
    "    test_predict = np.zeros((X_test.shape[0], 7))\n",
    "    print(model.__class__.__name__, \"ongoing...\")\n",
    "    \n",
    "    for cnt, (train_index, valid_index) in tqdm_notebook(enumerate(kfold.split(X_train))):\n",
    "        # 5개로 나눈 데이터 중 4개 부분(학습용)\n",
    "        X_train_ = X_train.iloc[train_index,1:]\n",
    "        y_train_ = y_train[train_index]\n",
    "        \n",
    "        # 5개로 나눈 데이터 중 나머지 1개 부분(테스트용)\n",
    "        X_validation = X_train.iloc[valid_index, 1:]\n",
    "        \n",
    "        # validation set제외 training set으로 모델을 학습시킨다.\n",
    "        model.fit(X_train_, y_train_)\n",
    "        \n",
    "        \n",
    "        # 결과값 저장소에 validation_set에 대한 예측값 저장\n",
    "        train_fold_predict[valid_index, :] = model.predict_proba(X_validation)\n",
    "        \n",
    "    # 전체 training set에 대해 모델 학습\n",
    "    model.fit(X_train.iloc[:,1:], y_train)\n",
    "        \n",
    "    # 결과값 저장소에 test_set에 대한 예측값 저장\n",
    "    test_predict[:,:7] = model.predict_proba(X_test.iloc[:,1:])\n",
    "    \n",
    "        \n",
    "    # test_predict의 결과들을 평균을 내서 하나로 합친다.\n",
    "    #test_predict_mean = np.mean(test_predict, axis=0)\n",
    "    \n",
    "    print(model.__class__.__name__, \"completed!\")\n",
    "    return train_fold_predict, test_predict"
   ]
  },
  {
   "cell_type": "code",
   "execution_count": 21,
   "metadata": {
    "ExecuteTime": {
     "end_time": "2020-03-25T03:29:19.550028Z",
     "start_time": "2020-03-25T03:27:21.549687Z"
    }
   },
   "outputs": [
    {
     "name": "stdout",
     "output_type": "stream",
     "text": [
      "DecisionTreeClassifier ongoing...\n"
     ]
    },
    {
     "name": "stderr",
     "output_type": "stream",
     "text": [
      "C:\\Users\\asus\\Anaconda3\\lib\\site-packages\\ipykernel_launcher.py:12: TqdmDeprecationWarning: This function will be removed in tqdm==5.0.0\n",
      "Please use `tqdm.notebook.tqdm` instead of `tqdm.tqdm_notebook`\n",
      "  if sys.path[0] == '':\n"
     ]
    },
    {
     "data": {
      "application/vnd.jupyter.widget-view+json": {
       "model_id": "ab12f28d7e0a40e4a05c70ef994651d8",
       "version_major": 2,
       "version_minor": 0
      },
      "text/plain": [
       "HBox(children=(IntProgress(value=1, bar_style='info', max=1), HTML(value='')))"
      ]
     },
     "metadata": {},
     "output_type": "display_data"
    },
    {
     "name": "stdout",
     "output_type": "stream",
     "text": [
      "\n",
      "DecisionTreeClassifier completed!\n",
      "RandomForestClassifier ongoing...\n"
     ]
    },
    {
     "name": "stderr",
     "output_type": "stream",
     "text": [
      "C:\\Users\\asus\\Anaconda3\\lib\\site-packages\\ipykernel_launcher.py:12: TqdmDeprecationWarning: This function will be removed in tqdm==5.0.0\n",
      "Please use `tqdm.notebook.tqdm` instead of `tqdm.tqdm_notebook`\n",
      "  if sys.path[0] == '':\n"
     ]
    },
    {
     "data": {
      "application/vnd.jupyter.widget-view+json": {
       "model_id": "e400511abc6d482e966ccef6b2e64fe9",
       "version_major": 2,
       "version_minor": 0
      },
      "text/plain": [
       "HBox(children=(IntProgress(value=1, bar_style='info', max=1), HTML(value='')))"
      ]
     },
     "metadata": {},
     "output_type": "display_data"
    },
    {
     "name": "stdout",
     "output_type": "stream",
     "text": [
      "\n",
      "RandomForestClassifier completed!\n",
      "LGBMClassifier ongoing...\n"
     ]
    },
    {
     "name": "stderr",
     "output_type": "stream",
     "text": [
      "C:\\Users\\asus\\Anaconda3\\lib\\site-packages\\ipykernel_launcher.py:12: TqdmDeprecationWarning: This function will be removed in tqdm==5.0.0\n",
      "Please use `tqdm.notebook.tqdm` instead of `tqdm.tqdm_notebook`\n",
      "  if sys.path[0] == '':\n"
     ]
    },
    {
     "data": {
      "application/vnd.jupyter.widget-view+json": {
       "model_id": "1f3c3e8569eb4d93bceb7f24ddef3fa2",
       "version_major": 2,
       "version_minor": 0
      },
      "text/plain": [
       "HBox(children=(IntProgress(value=1, bar_style='info', max=1), HTML(value='')))"
      ]
     },
     "metadata": {},
     "output_type": "display_data"
    },
    {
     "name": "stdout",
     "output_type": "stream",
     "text": [
      "\n",
      "LGBMClassifier completed!\n"
     ]
    }
   ],
   "source": [
    "dt_train, dt_test = get_stacked_data(dt_bst, X, y, x_test, 10)\n",
    "rf_train, rf_test = get_stacked_data(rf_bst, X, y , x_test, 10)\n",
    "lgb_train, lgb_test = get_stacked_data(lgb_bst, X, y, x_test, 10)"
   ]
  },
  {
   "cell_type": "code",
   "execution_count": 22,
   "metadata": {
    "ExecuteTime": {
     "end_time": "2020-03-25T03:29:19.564256Z",
     "start_time": "2020-03-25T03:29:19.554832Z"
    }
   },
   "outputs": [],
   "source": [
    "## 결과값들을 새로운 데이터로 형성 \n",
    "\n",
    "new_X_train = np.concatenate((dt_train, rf_train, lgb_train), axis=1)\n",
    "new_X_test = np.concatenate((dt_test, rf_test, lgb_test), axis=1)"
   ]
  },
  {
   "cell_type": "code",
   "execution_count": 23,
   "metadata": {
    "ExecuteTime": {
     "end_time": "2020-03-25T03:29:20.039920Z",
     "start_time": "2020-03-25T03:29:19.571201Z"
    }
   },
   "outputs": [
    {
     "name": "stdout",
     "output_type": "stream",
     "text": [
      "accuracy: 0.8727\n"
     ]
    },
    {
     "name": "stderr",
     "output_type": "stream",
     "text": [
      "C:\\Users\\asus\\Anaconda3\\lib\\site-packages\\sklearn\\linear_model\\_logistic.py:940: ConvergenceWarning: lbfgs failed to converge (status=1):\n",
      "STOP: TOTAL NO. of ITERATIONS REACHED LIMIT.\n",
      "\n",
      "Increase the number of iterations (max_iter) or scale the data as shown in:\n",
      "    https://scikit-learn.org/stable/modules/preprocessing.html\n",
      "Please also refer to the documentation for alternative solver options:\n",
      "    https://scikit-learn.org/stable/modules/linear_model.html#logistic-regression\n",
      "  extra_warning_msg=_LOGISTIC_SOLVER_CONVERGENCE_MSG)\n"
     ]
    }
   ],
   "source": [
    "lr = LogisticRegression()\n",
    "lr.fit(new_X_train, y)\n",
    "stacked_pred = lr.predict(new_X_test)\n",
    "\n",
    "print(\"accuracy: {0:.4f}\".format(accuracy_score(stacked_pred, y_test)))"
   ]
  },
  {
   "cell_type": "markdown",
   "metadata": {},
   "source": [
    "# StackingCVClassifier의 사용(실전용)"
   ]
  },
  {
   "cell_type": "code",
   "execution_count": 24,
   "metadata": {
    "ExecuteTime": {
     "end_time": "2020-03-25T03:29:20.076624Z",
     "start_time": "2020-03-25T03:29:20.043392Z"
    }
   },
   "outputs": [],
   "source": [
    "from mlxtend.classifier import StackingCVClassifier\n",
    "from mlxtend.classifier import StackingClassifier"
   ]
  },
  {
   "cell_type": "code",
   "execution_count": 25,
   "metadata": {
    "ExecuteTime": {
     "end_time": "2020-03-25T03:29:33.378848Z",
     "start_time": "2020-03-25T03:29:20.078609Z"
    }
   },
   "outputs": [
    {
     "name": "stdout",
     "output_type": "stream",
     "text": [
      "accuracy: 0.8704\n"
     ]
    }
   ],
   "source": [
    "stack_clf = StackingClassifier(classifiers=(dt_bst, rf_bst, lgb_bst),\n",
    "                                 use_probas=True,\n",
    "                                meta_classifier=lr)\n",
    "\n",
    "stack_clf.fit(X.iloc[:,1:],y)\n",
    "stack_clf_pred = stack_clf.predict(x_test.iloc[:,1:])\n",
    "print(\"accuracy: {0:.4f}\".format(accuracy_score(stack_clf_pred, y_test)))"
   ]
  },
  {
   "cell_type": "code",
   "execution_count": 26,
   "metadata": {
    "ExecuteTime": {
     "end_time": "2020-03-25T03:29:59.715051Z",
     "start_time": "2020-03-25T03:29:33.382321Z"
    }
   },
   "outputs": [
    {
     "name": "stderr",
     "output_type": "stream",
     "text": [
      "C:\\Users\\asus\\Anaconda3\\lib\\site-packages\\sklearn\\linear_model\\_logistic.py:940: ConvergenceWarning: lbfgs failed to converge (status=1):\n",
      "STOP: TOTAL NO. of ITERATIONS REACHED LIMIT.\n",
      "\n",
      "Increase the number of iterations (max_iter) or scale the data as shown in:\n",
      "    https://scikit-learn.org/stable/modules/preprocessing.html\n",
      "Please also refer to the documentation for alternative solver options:\n",
      "    https://scikit-learn.org/stable/modules/linear_model.html#logistic-regression\n",
      "  extra_warning_msg=_LOGISTIC_SOLVER_CONVERGENCE_MSG)\n"
     ]
    },
    {
     "name": "stdout",
     "output_type": "stream",
     "text": [
      "accuracy: 0.8710\n"
     ]
    }
   ],
   "source": [
    "stackcv_clf = StackingCVClassifier(classifiers=(dt_bst, rf_bst, lgb_bst),\n",
    "                                 use_probas=True,\n",
    "                                meta_classifier=lr, random_state=10)\n",
    "\n",
    "stackcv_clf.fit(X.iloc[:,1:],y)\n",
    "stackcv_clf_pred = stackcv_clf.predict(x_test.iloc[:,1:])\n",
    "print(\"accuracy: {0:.4f}\".format(accuracy_score(stackcv_clf_pred, y_test)))"
   ]
  }
 ],
 "metadata": {
  "kernelspec": {
   "display_name": "Python 3",
   "language": "python",
   "name": "python3"
  },
  "language_info": {
   "codemirror_mode": {
    "name": "ipython",
    "version": 3
   },
   "file_extension": ".py",
   "mimetype": "text/x-python",
   "name": "python",
   "nbconvert_exporter": "python",
   "pygments_lexer": "ipython3",
   "version": "3.7.3"
  },
  "toc": {
   "base_numbering": 1,
   "nav_menu": {},
   "number_sections": true,
   "sideBar": true,
   "skip_h1_title": false,
   "title_cell": "Table of Contents",
   "title_sidebar": "Contents",
   "toc_cell": false,
   "toc_position": {
    "height": "calc(100% - 180px)",
    "left": "10px",
    "top": "150px",
    "width": "165px"
   },
   "toc_section_display": true,
   "toc_window_display": true
  }
 },
 "nbformat": 4,
 "nbformat_minor": 2
}
