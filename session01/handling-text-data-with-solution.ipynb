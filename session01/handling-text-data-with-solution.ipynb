{
 "cells": [
  {
   "cell_type": "markdown",
   "metadata": {},
   "source": [
    "# 텍스트 데이터 다루기"
   ]
  },
  {
   "cell_type": "markdown",
   "metadata": {},
   "source": [
    "데이터 출처: [Ramen Rating(Kaggle)](https://www.kaggle.com/residentmario/ramen-ratings), [Titanic(Kaggle)](https://www.kaggle.com/c/titanic)"
   ]
  },
  {
   "cell_type": "markdown",
   "metadata": {},
   "source": [
    "## Preparation"
   ]
  },
  {
   "cell_type": "code",
   "execution_count": null,
   "metadata": {},
   "outputs": [],
   "source": [
    "import pandas as pd\n",
    "import random\n",
    "import numpy as np\n",
    "import matplotlib.pyplot as plt"
   ]
  },
  {
   "cell_type": "code",
   "execution_count": null,
   "metadata": {},
   "outputs": [],
   "source": [
    "ramen = pd.read_csv(\"./data/ramen-review/ramen-ratings.csv\")\n",
    "titanic = pd.read_csv(\"./data/titanic/train.csv\")"
   ]
  },
  {
   "cell_type": "code",
   "execution_count": null,
   "metadata": {},
   "outputs": [],
   "source": [
    "ramen.head()"
   ]
  },
  {
   "cell_type": "code",
   "execution_count": null,
   "metadata": {},
   "outputs": [],
   "source": [
    "ramen.dtypes"
   ]
  },
  {
   "cell_type": "code",
   "execution_count": null,
   "metadata": {},
   "outputs": [],
   "source": [
    "titanic.head()"
   ]
  },
  {
   "cell_type": "code",
   "execution_count": null,
   "metadata": {},
   "outputs": [],
   "source": [
    "titanic.dtypes"
   ]
  },
  {
   "cell_type": "markdown",
   "metadata": {},
   "source": [
    "## `cat()`"
   ]
  },
  {
   "cell_type": "markdown",
   "metadata": {},
   "source": [
    "한 컬럼을 하나의 문자열로 합침"
   ]
  },
  {
   "cell_type": "markdown",
   "metadata": {},
   "source": [
    "`['a','b','c','d']`인 series를 하나로 합쳐 `'a,b,c,d'` 또는 `'abcd'`로 만드는 예시"
   ]
  },
  {
   "cell_type": "code",
   "execution_count": null,
   "metadata": {},
   "outputs": [],
   "source": [
    "s = pd.Series(['a', 'b', 'c', 'd'])"
   ]
  },
  {
   "cell_type": "code",
   "execution_count": null,
   "metadata": {},
   "outputs": [],
   "source": [
    "s.str.cat(sep=\",\")"
   ]
  },
  {
   "cell_type": "code",
   "execution_count": null,
   "metadata": {},
   "outputs": [],
   "source": [
    "s.str.cat()"
   ]
  },
  {
   "cell_type": "markdown",
   "metadata": {},
   "source": [
    "## `split()`"
   ]
  },
  {
   "cell_type": "markdown",
   "metadata": {},
   "source": [
    "문자열을 공백문자나 separator로 분리한 문자열을 만든다.\n",
    "\n",
    "`\"Wei Lih\"` $\\Rightarrow$ `[\"Wei\", \"Lih\"]`"
   ]
  },
  {
   "cell_type": "code",
   "execution_count": null,
   "metadata": {},
   "outputs": [],
   "source": [
    "ramen[\"Brand\"].head()"
   ]
  },
  {
   "cell_type": "code",
   "execution_count": null,
   "metadata": {},
   "outputs": [],
   "source": [
    "# 공백문자로 분리\n",
    "ramen[\"Brand\"].str.split().head()"
   ]
  },
  {
   "cell_type": "code",
   "execution_count": null,
   "metadata": {},
   "outputs": [],
   "source": [
    "# 예시 데이터 만들기\n",
    "ramen[\"Brand\"] = ramen[\"Brand\"].str.split().str.join(\"-\")\n",
    "ramen[\"Brand\"].head()"
   ]
  },
  {
   "cell_type": "code",
   "execution_count": null,
   "metadata": {},
   "outputs": [],
   "source": [
    "# 하이픈(-)으로 분리\n",
    "ramen[\"Brand\"].str.split(\"-\").head()"
   ]
  },
  {
   "cell_type": "code",
   "execution_count": null,
   "metadata": {},
   "outputs": [],
   "source": [
    "# 원래대로 되돌리기\n",
    "ramen[\"Brand\"] = ramen[\"Brand\"].str.split(\"-\").str.join(\" \")"
   ]
  },
  {
   "cell_type": "markdown",
   "metadata": {},
   "source": [
    "## `join()`\n",
    "\n",
    "`split()`에 의해 분리된 문자열 리스트나 series를 separator로 연결한 문자열을 만든다.\n",
    "\n",
    "`[\"Wei\", \"Lih\"]` $\\Rightarrow$ `\"Wei Lih\"` or `\"Wei-Lih\"`"
   ]
  },
  {
   "cell_type": "code",
   "execution_count": null,
   "metadata": {},
   "outputs": [],
   "source": [
    "ramen[\"BrandSplitted\"] = ramen[\"Brand\"].str.split()"
   ]
  },
  {
   "cell_type": "code",
   "execution_count": null,
   "metadata": {},
   "outputs": [],
   "source": [
    "ramen[\"BrandSplitted\"].head()"
   ]
  },
  {
   "cell_type": "code",
   "execution_count": null,
   "metadata": {},
   "outputs": [],
   "source": [
    "ramen[\"BrandSplitted\"].str.join(\" \").head() # separator: \" \""
   ]
  },
  {
   "cell_type": "code",
   "execution_count": null,
   "metadata": {},
   "outputs": [],
   "source": [
    "ramen[\"BrandSplitted\"].str.join(\"-\").head() # separator: \"-\""
   ]
  },
  {
   "cell_type": "markdown",
   "metadata": {},
   "source": [
    "## `replace()`"
   ]
  },
  {
   "cell_type": "markdown",
   "metadata": {},
   "source": [
    "특정 문자열을 찾아 바꿔준다."
   ]
  },
  {
   "cell_type": "markdown",
   "metadata": {},
   "source": [
    "### 정규식을 사용하지 않고\n",
    "\n",
    "반드시 `regex=False`를 해야 한다. 정확하게 매칭되는 문자열을 찾아 바꿔준다."
   ]
  },
  {
   "cell_type": "code",
   "execution_count": null,
   "metadata": {},
   "outputs": [],
   "source": [
    "titanic[\"Name\"].head()"
   ]
  },
  {
   "cell_type": "code",
   "execution_count": null,
   "metadata": {},
   "outputs": [],
   "source": [
    "# 첫 번째 이름 Braund, Mr. Owen Harris을 Mr. Harries로 바꾸기\n",
    "titanic[\"Name\"].str.replace(\n",
    "    \"Braund, Mr. Owen Harris\",\"Mr. Harries\", regex=False).head()"
   ]
  },
  {
   "cell_type": "markdown",
   "metadata": {},
   "source": [
    "`regex=False`를 해야 하는 이유는 `replace()`가 기본적으로 정규식을 기본으로 작동하기 때문이다. 정규식에서 몇몇 특수문자는 특별한 기호로 다루어지기 때문에 우리가 생각하는 방식과 다르게 작동하거나 에러가 날 가능성이 높다. 예를 들어 찾고자 하는 문자열에 `[`, `]`,`.`이 들어있을 때 `regex=False`를 하지 않으면 정상적으로 replace가 되지 않는다."
   ]
  },
  {
   "cell_type": "markdown",
   "metadata": {},
   "source": [
    "### 정규식으로 찾기"
   ]
  },
  {
   "cell_type": "markdown",
   "metadata": {},
   "source": [
    "정규식에 대한 자세한 내용은 [점프투파이썬 07-02-1 : 정규 표현식의 기초](https://wikidocs.net/4308#mn)을 참고한다. 모르면 넘어가도 된다."
   ]
  },
  {
   "cell_type": "markdown",
   "metadata": {},
   "source": [
    "`Name` 컬럼은 Last name, Prefix, First Name으로 되어 있다."
   ]
  },
  {
   "cell_type": "code",
   "execution_count": null,
   "metadata": {},
   "outputs": [],
   "source": [
    "titanic[\"Name\"].head()"
   ]
  },
  {
   "cell_type": "markdown",
   "metadata": {},
   "source": [
    "모든 사람의 Last name과 `,`를 지우려고 할 때 정규식을 사용하면 쉽게 사용할 수 있다."
   ]
  },
  {
   "cell_type": "code",
   "execution_count": null,
   "metadata": {},
   "outputs": [],
   "source": [
    "# 정규식 패턴에 맞는 문자열을 \"\"(공백)으로 바꾼다.\n",
    "titanic[\"Name\"].str.replace(\"[a-zA-Z]+,\\s*\",\"\").head()"
   ]
  },
  {
   "cell_type": "markdown",
   "metadata": {},
   "source": [
    "## `strip()`, `rstrip()`, `lstrip()`"
   ]
  },
  {
   "cell_type": "code",
   "execution_count": null,
   "metadata": {},
   "outputs": [],
   "source": [
    "titanic[\"Name\"] += \" \""
   ]
  },
  {
   "cell_type": "markdown",
   "metadata": {},
   "source": [
    "여기서는 `Name` 컬럼 뒤에 공백 문자를 추가했지만, CSV 파일을 읽는 과정에서 문자열 전후에 공백들이 추가될 수 있으며 공백문자 때문에 여러가지 문제가 발생할 수 있다."
   ]
  },
  {
   "cell_type": "code",
   "execution_count": null,
   "metadata": {},
   "outputs": [],
   "source": [
    "titanic[\"Name\"][0]"
   ]
  },
  {
   "cell_type": "markdown",
   "metadata": {},
   "source": [
    "이를 제거하기 위해 `strip()`, `rstrip()`, `lstrip()` 를 사용할 수 있다.\n",
    "\n",
    "* `strip()`: 양쪽 끝 공백들을 모두 제거\n",
    "* `rstrip()`: 오른쪽 끝 공백만 제거\n",
    "* `lstrip()`: 왼쪽 끝 공백만 제거"
   ]
  },
  {
   "cell_type": "code",
   "execution_count": null,
   "metadata": {},
   "outputs": [],
   "source": [
    "titanic[\"Name\"].str.lstrip()[0] # 왼쪽만 제거, 그대로 남음"
   ]
  },
  {
   "cell_type": "code",
   "execution_count": null,
   "metadata": {},
   "outputs": [],
   "source": [
    "titanic[\"Name\"].str.rstrip()[0] # 오른쪽만 제거, 공백 제거됨"
   ]
  },
  {
   "cell_type": "code",
   "execution_count": null,
   "metadata": {},
   "outputs": [],
   "source": [
    "titanic[\"Name\"].str.strip()[0] # 양쪽 모두 제거, 공백 제거됨"
   ]
  },
  {
   "cell_type": "code",
   "execution_count": null,
   "metadata": {},
   "outputs": [],
   "source": [
    "titanic[\"Name\"] = titanic[\"Name\"].str.strip() # 원래대로 돌려놓기"
   ]
  },
  {
   "cell_type": "markdown",
   "metadata": {},
   "source": [
    "## 기타 기능"
   ]
  },
  {
   "cell_type": "markdown",
   "metadata": {},
   "source": [
    "### 모든 문자 대문자, 소문자로 만들기\n",
    "\n",
    "`lower()`, `upper()`를 사용한다."
   ]
  },
  {
   "cell_type": "code",
   "execution_count": null,
   "metadata": {},
   "outputs": [],
   "source": [
    "titanic[\"Name\"].head()"
   ]
  },
  {
   "cell_type": "code",
   "execution_count": null,
   "metadata": {},
   "outputs": [],
   "source": [
    "titanic[\"Name\"].str.upper().head()"
   ]
  },
  {
   "cell_type": "code",
   "execution_count": null,
   "metadata": {
    "scrolled": true
   },
   "outputs": [],
   "source": [
    "titanic[\"Name\"].str.lower().head()"
   ]
  },
  {
   "cell_type": "markdown",
   "metadata": {},
   "source": [
    "### prefix, suffix 매칭 확인하기\n",
    "\n",
    "`startswith()`, `endswith()`를 사용한다."
   ]
  },
  {
   "cell_type": "markdown",
   "metadata": {},
   "source": [
    "Last Name이 `B`로 시작하는 사람들 찾기"
   ]
  },
  {
   "cell_type": "code",
   "execution_count": null,
   "metadata": {},
   "outputs": [],
   "source": [
    "titanic[ titanic[\"Name\"].str.startswith(\"B\") ].head()"
   ]
  },
  {
   "cell_type": "markdown",
   "metadata": {},
   "source": [
    "First Name이 `Lee`인 사람들 찾기"
   ]
  },
  {
   "cell_type": "code",
   "execution_count": null,
   "metadata": {},
   "outputs": [],
   "source": [
    "titanic[titanic[\"Name\"].str.endswith(\"Lee\")].head()"
   ]
  },
  {
   "cell_type": "markdown",
   "metadata": {},
   "source": [
    "## 연습문제"
   ]
  },
  {
   "cell_type": "code",
   "execution_count": null,
   "metadata": {},
   "outputs": [],
   "source": [
    "# 데이터 만들기\n",
    "for i in range(1,5):\n",
    "    idx = random.sample(list(ramen.index), ramen.shape[0]//2)\n",
    "    ramen.loc[idx,\"Brand\"] = ramen.loc[idx,\"Brand\"].str.split().str.join(sep=\" \"*i)\n",
    "    idx = random.sample(list(ramen.index), ramen.shape[0]//2)\n",
    "    ramen.loc[idx,\"Brand\"] = ramen.loc[idx,\"Brand\"].str.capitalize()\n",
    "    idx = random.sample(list(ramen.index), ramen.shape[0]//2)\n",
    "    ramen.loc[idx,\"Brand\"] = ramen.loc[idx,\"Brand\"].str.lower()\n",
    "    idx = random.sample(list(ramen.index), ramen.shape[0]//2)\n",
    "    ramen.loc[idx,\"Brand\"] = ramen.loc[idx,\"Brand\"].str.upper()\n",
    "    idx = random.sample(list(ramen.index), ramen.shape[0]//2)\n",
    "    ramen.loc[idx,\"Brand\"] += \" \"*i\n",
    "    idx = random.sample(list(ramen.index), ramen.shape[0]//2)\n",
    "    ramen.loc[idx,\"Brand\"] = \" \"*i + ramen.loc[idx,\"Brand\"]\n",
    "ramen[\"Stars\"] = pd.to_numeric(ramen[\"Stars\"],errors=\"coarse\")"
   ]
  },
  {
   "cell_type": "markdown",
   "metadata": {},
   "source": [
    "브랜드별(`Brand` 컬럼) 평균 평점 (`Stars` 컬럼)을 구하고 싶다. 그러나 아래와 같이 같은 카테고리 임에도 브랜드 이름이 정확하게 동일하지 않아 그대로 groupby를 사용하면 같은 브랜드임에도 서로 다른 카테고리에 묶이게 된다.\n",
    "\n",
    "`split()`, `join()`, `replace()`, `strip()`, `lower()`, `upper()` 함수 중 필요한 함수를 적절하게 골라 브랜드별 평균 평점을 찾는 코드를 작성하여라. 코드가 아래의 문제들을 적절하게 처리할 수 있으면 된다.\n",
    "\n",
    "* 문자열 중간 공백문자 길이가 다름\n",
    "* 브랜드 이름 양끝에 공백\n",
    "* 대소문자 다름\n"
   ]
  },
  {
   "cell_type": "code",
   "execution_count": null,
   "metadata": {},
   "outputs": [],
   "source": [
    "ramen[\"Brand\"][ramen[\"Brand\"].str.contains(\"baixiang\",case=False)].unique()"
   ]
  },
  {
   "cell_type": "markdown",
   "metadata": {},
   "source": [
    "### 정답"
   ]
  },
  {
   "cell_type": "markdown",
   "metadata": {},
   "source": [
    "총 353개의 브랜드별 가치를 알 수 있으면 됨"
   ]
  },
  {
   "cell_type": "code",
   "execution_count": null,
   "metadata": {},
   "outputs": [],
   "source": [
    "ramen[\"Brand\"] = ramen[\"Brand\"].str.strip() \\\n",
    "    .str.lower() \\\n",
    "    .str.split() \\\n",
    "    .str.join(sep=\" \")\n",
    "\n",
    "ramen.groupby(\"Brand\")[\"Stars\"].mean()"
   ]
  }
 ],
 "metadata": {
  "kernelspec": {
   "display_name": "Python 3",
   "language": "python",
   "name": "python3"
  },
  "language_info": {
   "codemirror_mode": {
    "name": "ipython",
    "version": 3
   },
   "file_extension": ".py",
   "mimetype": "text/x-python",
   "name": "python",
   "nbconvert_exporter": "python",
   "pygments_lexer": "ipython3",
   "version": "3.7.3"
  },
  "toc": {
   "base_numbering": 1,
   "nav_menu": {},
   "number_sections": true,
   "sideBar": true,
   "skip_h1_title": true,
   "title_cell": "Table of Contents",
   "title_sidebar": "Contents",
   "toc_cell": false,
   "toc_position": {},
   "toc_section_display": true,
   "toc_window_display": false
  }
 },
 "nbformat": 4,
 "nbformat_minor": 2
}
