{
 "cells": [
  {
   "cell_type": "markdown",
   "metadata": {},
   "source": [
    "# 결측치 다루기"
   ]
  },
  {
   "cell_type": "markdown",
   "metadata": {},
   "source": [
    "데이터 출처: [Ramen Rating(Kaggle)](https://www.kaggle.com/residentmario/ramen-ratings), [Everything you can do with a time series(kaggle)](https://www.kaggle.com/kernels/scriptcontent/4882227/notebook)"
   ]
  },
  {
   "cell_type": "markdown",
   "metadata": {},
   "source": [
    "## Preparation"
   ]
  },
  {
   "cell_type": "code",
   "execution_count": null,
   "metadata": {},
   "outputs": [],
   "source": [
    "import pandas as pd\n",
    "import random\n",
    "import numpy as np\n",
    "import matplotlib.pyplot as plt"
   ]
  },
  {
   "cell_type": "code",
   "execution_count": null,
   "metadata": {},
   "outputs": [],
   "source": [
    "ramen = pd.read_csv(\"./data/ramen-review/ramen-ratings.csv\")\n",
    "ramen[\"Stars\"] = pd.to_numeric(ramen[\"Stars\"], errors=\"coarse\")\n",
    "google = pd.read_csv('./data/stock-time-series-20050101-to-20171231/GOOGL_2006-01-01_to_2018-01-01.csv')"
   ]
  },
  {
   "cell_type": "code",
   "execution_count": null,
   "metadata": {},
   "outputs": [],
   "source": [
    "ramen.head()"
   ]
  },
  {
   "cell_type": "code",
   "execution_count": null,
   "metadata": {},
   "outputs": [],
   "source": [
    "ramen.dtypes"
   ]
  },
  {
   "cell_type": "code",
   "execution_count": null,
   "metadata": {},
   "outputs": [],
   "source": [
    "google.head()"
   ]
  },
  {
   "cell_type": "code",
   "execution_count": null,
   "metadata": {},
   "outputs": [],
   "source": [
    "google.dtypes"
   ]
  },
  {
   "cell_type": "markdown",
   "metadata": {},
   "source": [
    "## 결측치"
   ]
  },
  {
   "cell_type": "markdown",
   "metadata": {},
   "source": [
    "pandas는 numpy의 nan을 NaN 값으로 사용한다."
   ]
  },
  {
   "cell_type": "code",
   "execution_count": null,
   "metadata": {},
   "outputs": [],
   "source": [
    "ramen[\"Top Ten\"].head()"
   ]
  },
  {
   "cell_type": "markdown",
   "metadata": {},
   "source": [
    "nan인지 확인하기 위해서는 `isna()` 또는 `notna()`를 사용한다."
   ]
  },
  {
   "cell_type": "code",
   "execution_count": null,
   "metadata": {},
   "outputs": [],
   "source": [
    "ramen[\"Top Ten\"].isna().head()"
   ]
  },
  {
   "cell_type": "code",
   "execution_count": null,
   "metadata": {
    "scrolled": true
   },
   "outputs": [],
   "source": [
    "ramen[\"Top Ten\"].notna().head()"
   ]
  },
  {
   "cell_type": "markdown",
   "metadata": {},
   "source": [
    "> (주의) `ramen[\"Top Ten\"] == np.nan`은 패키지 내부의 문제 때문에 정상적으로 작동하지 않는다."
   ]
  },
  {
   "cell_type": "code",
   "execution_count": null,
   "metadata": {},
   "outputs": [],
   "source": [
    "# True가 되어야 정상\n",
    "(ramen[\"Top Ten\"] == np.nan).head()"
   ]
  },
  {
   "cell_type": "markdown",
   "metadata": {},
   "source": [
    "## Missing Value Propagation"
   ]
  },
  {
   "cell_type": "markdown",
   "metadata": {},
   "source": [
    "결측치와 어떤 연산을 하더라도 결과는 항상 `nan`이 된다. 이런 특성 때문에 결측치가 포함된 상태로 계산을 하면 결측치가 전파된다."
   ]
  },
  {
   "cell_type": "code",
   "execution_count": null,
   "metadata": {},
   "outputs": [],
   "source": [
    "np.nan + 3"
   ]
  },
  {
   "cell_type": "code",
   "execution_count": null,
   "metadata": {},
   "outputs": [],
   "source": [
    "np.nan * 2"
   ]
  },
  {
   "cell_type": "markdown",
   "metadata": {},
   "source": [
    "전파되는 예시로 구글 시가의 이동평균을 구할 때 결측치가 있으면 어떤 결과가 나타나는지 본다."
   ]
  },
  {
   "cell_type": "code",
   "execution_count": null,
   "metadata": {},
   "outputs": [],
   "source": [
    "google[\"Open\"].head()"
   ]
  },
  {
   "cell_type": "code",
   "execution_count": null,
   "metadata": {},
   "outputs": [],
   "source": [
    "# 결측치 추가하기\n",
    "tmp = google[\"Open\"][4]\n",
    "google.loc[4,\"Open\"] = np.nan\n",
    "google[\"Open\"].head()"
   ]
  },
  {
   "cell_type": "markdown",
   "metadata": {},
   "source": [
    "결측치를 추가하고 3일 이동평균을 구해본다."
   ]
  },
  {
   "cell_type": "code",
   "execution_count": null,
   "metadata": {},
   "outputs": [],
   "source": [
    "# 결측치 추가하기\n",
    "google.set_index(\"Date\")[\"Open\"].rolling(window=3).mean().head(15)"
   ]
  },
  {
   "cell_type": "markdown",
   "metadata": {},
   "source": [
    "`Open` 컬럼의 4번째 값 결측치때문에 이동평균에 3개의 NaN 값이 생긴다."
   ]
  },
  {
   "cell_type": "markdown",
   "metadata": {},
   "source": [
    "## 결측치 처리"
   ]
  },
  {
   "cell_type": "markdown",
   "metadata": {},
   "source": [
    "결측치 처리는 보통 둘 중 하나로 처리된다.\n",
    "\n",
    "1. 결측치가 있는 row나 column을 버린다.\n",
    "2. 결측치를 채운다.(interpolate 또는 imputation)"
   ]
  },
  {
   "cell_type": "markdown",
   "metadata": {},
   "source": [
    "### 결측치 버리기\n",
    "\n",
    "`dropna()`를 사용한다."
   ]
  },
  {
   "cell_type": "code",
   "execution_count": null,
   "metadata": {},
   "outputs": [],
   "source": [
    "google.head(10)"
   ]
  },
  {
   "cell_type": "code",
   "execution_count": null,
   "metadata": {},
   "outputs": [],
   "source": [
    "# NaN이 들어있는 row 버리기 (4번째 row 사라짐)\n",
    "google.dropna().head(10)\n",
    "# 또는 google.dropna(axis=0).head(10)"
   ]
  },
  {
   "cell_type": "code",
   "execution_count": null,
   "metadata": {},
   "outputs": [],
   "source": [
    "# NaN이 들어있는 column 버리기 \n",
    "# (결측치가 들어있는 Open 컬럼 없어짐)\n",
    "google.dropna(axis=1).head(10)"
   ]
  },
  {
   "cell_type": "markdown",
   "metadata": {},
   "source": [
    "### 결측치 채우기\n",
    "\n",
    "`interpolate()`를 사용한다. 여러 방식의 interpolate을 제공하는데 `method=`형태로 지정할 수 있다. method는 다음과 같은 방식을 사용할 수 있다.\n",
    "\n",
    "* linear\n",
    "* time\n",
    "* index\n",
    "* values\n",
    "* nearest\n",
    "* zero\n",
    "* slinear\n",
    "* quadratic\n",
    "* cubic\n",
    "* barycentric\n",
    "\n",
    "아래 method는 scipy가 같이 설치되어 있을 때만 사용 가능하다.\n",
    "* krogh\n",
    "* polynomial\n",
    "* spline\n",
    "* piecewise_polynomial\n",
    "* pchip\n",
    "\n",
    "자세한 내용은 [DataFrame.interpolate reference](https://pandas.pydata.org/pandas-docs/version/0.25/generated/pandas.DataFrame.interpolate.html)를 참고하면 된다."
   ]
  },
  {
   "cell_type": "code",
   "execution_count": null,
   "metadata": {},
   "outputs": [],
   "source": [
    "# 예시 데이터\n",
    "sin = pd.DataFrame({\"A\":np.sin(np.linspace(-np.pi, np.pi, 25))})\n",
    "sin[5:12] = np.nan\n",
    "sin.plot(style='.')\n",
    "plt.show()"
   ]
  },
  {
   "cell_type": "code",
   "execution_count": null,
   "metadata": {},
   "outputs": [],
   "source": [
    "# 여러 메소드 비교하기\n",
    "NCOL = 2\n",
    "NROW = 5\n",
    "fig, axes = plt.subplots(NROW, NCOL)\n",
    "fig.set_size_inches(10, 20)\n",
    "methods = [\n",
    "    \"linear\", \"nearest\", \"slinear\", \"cubic\", \"quadratic\", \"spline\", \"spline\",\n",
    "    \"spline\", \"pchip\", \"akima\"\n",
    "]\n",
    "args = [{}, {}, {}, {}, {}, {\"order\": 1}, {\"order\": 2}, {\"order\": 3}, {}, {}]\n",
    "for i in range(NROW):\n",
    "    for j in range(NCOL):\n",
    "        idx = i * NCOL + j\n",
    "        sin.plot(style='.', ax=axes[i][j], legend=False)\n",
    "        sin[\"A\"] \\\n",
    "            .interpolate(methods[idx], **args[idx]) \\\n",
    "            .iloc[5:12] \\\n",
    "            .plot(style='r.', ax=axes[i][j], legend=False)\n",
    "        axes[i][j].set_title(methods[idx] + str(args[idx]))\n",
    "plt.show()"
   ]
  },
  {
   "cell_type": "markdown",
   "metadata": {},
   "source": [
    "## Casting rules"
   ]
  },
  {
   "cell_type": "markdown",
   "metadata": {},
   "source": [
    "|Data|Type|\n",
    "|:-----|:-----|\n",
    "|1, 2, 3, 4, 5, …|integer|\n",
    "|1,2,NaN,4,5|float|\n",
    "|Ture, False, True, ...|boolean|\n",
    "|True, NaN, False|Object(String 타입)|\n",
    "|1.2, 1.3, NaN, 1.9|float|"
   ]
  },
  {
   "cell_type": "markdown",
   "metadata": {},
   "source": [
    "`pd.read_csv()`와 같이 데이터를 로드하는 함수를 실행할 때 pandas가 자체적으로 타입을 추론한다. 단, 로드하는 column에 결측값이 있으면 다음과 같은 Casting rule에 따라 타입이 결정된다."
   ]
  },
  {
   "cell_type": "code",
   "execution_count": null,
   "metadata": {},
   "outputs": [],
   "source": [
    "ramen.loc[100,\"Review #\"] = np.nan\n",
    "ramen.to_csv(\"./data/ramen-review/ramen-ratings2.csv\",index=False)"
   ]
  },
  {
   "cell_type": "code",
   "execution_count": null,
   "metadata": {},
   "outputs": [],
   "source": [
    "ramen = pd.read_csv(\"./data/ramen-review/ramen-ratings2.csv\")"
   ]
  },
  {
   "cell_type": "code",
   "execution_count": null,
   "metadata": {},
   "outputs": [],
   "source": [
    "ramen.head()"
   ]
  },
  {
   "cell_type": "code",
   "execution_count": null,
   "metadata": {},
   "outputs": [],
   "source": [
    "ramen.dtypes"
   ]
  },
  {
   "cell_type": "markdown",
   "metadata": {},
   "source": [
    "`Review #` 컬럼은 리뷰의 개수를 의미하기 때문에 int 타입으로 되어야 하는데 float64 타입으로 인식되었으므로 nan이 포함되어 있을 수 있음을 의심할 수 있다."
   ]
  },
  {
   "cell_type": "code",
   "execution_count": null,
   "metadata": {},
   "outputs": [],
   "source": [
    "ramen[\"Review #\"][ramen[\"Review #\"].isna()]"
   ]
  },
  {
   "cell_type": "markdown",
   "metadata": {},
   "source": [
    "casting rule을 알고 있으면 결측값의 존재한다는 사실을 빨리 알아차릴 수 있다. (데이터를 읽은 후에 결측값 체크를 하는 것이 통상적인 절차라 사실 몰라도 상관 없다.)"
   ]
  },
  {
   "cell_type": "code",
   "execution_count": null,
   "metadata": {},
   "outputs": [],
   "source": [
    "ramen.isna().sum()"
   ]
  },
  {
   "cell_type": "markdown",
   "metadata": {},
   "source": [
    "위의 코드로 모든 컬럼의 결측치를 쉽게 파악할 수 있다. `sum()`을 사용한 것은 `True`는 숫자로 표현하면 1, `False`는 0이라는 성질을 이용하기 위해서다. "
   ]
  }
 ],
 "metadata": {
  "kernelspec": {
   "display_name": "Python 3",
   "language": "python",
   "name": "python3"
  },
  "language_info": {
   "codemirror_mode": {
    "name": "ipython",
    "version": 3
   },
   "file_extension": ".py",
   "mimetype": "text/x-python",
   "name": "python",
   "nbconvert_exporter": "python",
   "pygments_lexer": "ipython3",
   "version": "3.7.3"
  },
  "toc": {
   "base_numbering": 1,
   "nav_menu": {},
   "number_sections": true,
   "sideBar": true,
   "skip_h1_title": true,
   "title_cell": "Table of Contents",
   "title_sidebar": "Contents",
   "toc_cell": false,
   "toc_position": {},
   "toc_section_display": true,
   "toc_window_display": false
  }
 },
 "nbformat": 4,
 "nbformat_minor": 2
}
